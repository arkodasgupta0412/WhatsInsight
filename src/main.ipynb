{
 "cells": [
  {
   "cell_type": "code",
   "execution_count": 4,
   "metadata": {
    "id": "Us6FIsphYYuw"
   },
   "outputs": [],
   "source": [
    "import re\n",
    "import pandas as pd"
   ]
  },
  {
   "cell_type": "code",
   "execution_count": 8,
   "metadata": {
    "colab": {
     "base_uri": "https://localhost:8080/",
     "height": 380
    },
    "executionInfo": {
     "elapsed": 4504,
     "status": "ok",
     "timestamp": 1752812739999,
     "user": {
      "displayName": "Arko Dasgupta",
      "userId": "02225683923503316633"
     },
     "user_tz": -330
    },
    "id": "HnAdmj9Ya_z3",
    "outputId": "8a738521-eaef-44a8-c797-7a12c1048eb0"
   },
   "outputs": [
    {
     "name": "stdout",
     "output_type": "stream",
     "text": [
      "(2182, 7)\n",
      "                 user                                            message  \\\n",
      "0  group_notification  Messages and calls are end-to-end encrypted. O...   \n",
      "1  group_notification     Lombrata CS created group \"Hardware Design 💦😋\"   \n",
      "2  group_notification                              Lombrata CS added you   \n",
      "3         Lombrata CS                                    <Media omitted>   \n",
      "4          Arjeesh CS                                Ekta jinish dekhbi?   \n",
      "5          Arjeesh CS                                    <Media omitted>   \n",
      "6          Arjeesh CS                                          Ei korlam   \n",
      "7         Lombrata CS                                  Eta toh exp 1 toh   \n",
      "8          Arjeesh CS                     555 timer: Condition - Astable   \n",
      "9          Arjeesh CS                                    <Media omitted>   \n",
      "\n",
      "   year    month day hour minute  \n",
      "0  2025  January  07   15     25  \n",
      "1  2025  January  07   15     25  \n",
      "2  2025  January  07   15     25  \n",
      "3  2025  January  07   15     26  \n",
      "4  2025  January  07   16     28  \n",
      "5  2025  January  07   16     28  \n",
      "6  2025  January  07   16     28  \n",
      "7  2025  January  07   16     29  \n",
      "8  2025  January  07   16     30  \n",
      "9  2025  January  07   16     31  \n"
     ]
    }
   ],
   "source": [
    "# extract all the member chats and date_time data.\n",
    "# chats: Format - '<person_name>:<chat>'\n",
    "# date_time: Format - ['date', 'time']\n",
    "\n",
    "with open(\"data/WhatsApp Chat with Po po po po po.txt\", encoding=\"utf-8\") as f:\n",
    "    data = f.read()\n",
    "\n",
    "pattern = r\"(\\d{1,2}/\\d{1,2}/\\d{2,4}), (\\d{1,2}:\\d{2}) - (.+)\"\n",
    "matches = re.findall(pattern, data)\n",
    "\n",
    "users = []\n",
    "messages = []\n",
    "dates = []\n",
    "times = []\n",
    "\n",
    "for date, time, chat in matches:\n",
    "    date_obj = pd.to_datetime(date.strip(), dayfirst=True)\n",
    "    time_obj = pd.to_datetime(time.strip(), format='%H:%M').time()\n",
    "\n",
    "    if ':' in chat:\n",
    "        # Normal user message\n",
    "        user, message = chat.split(':', 1)\n",
    "        users.append(user.strip())\n",
    "        messages.append(message.strip())\n",
    "    else:\n",
    "        # System/group message (e.g., \"User added X\", \"You created group\", etc.)\n",
    "        users.append(\"group_notification\")\n",
    "        messages.append(chat.strip())\n",
    "\n",
    "    dates.append(date_obj)\n",
    "    times.append(time_obj)\n",
    "\n",
    "df = pd.DataFrame({\n",
    "    'user': users,\n",
    "    'message': messages,\n",
    "    'date': dates,\n",
    "    'time': times\n",
    "})\n",
    "\n",
    "# Extract year, month, day, hour, minute\n",
    "df['year'] = df['date'].dt.year\n",
    "df['month'] = df['date'].dt.month_name()\n",
    "df['day'] = df['date'].dt.day.astype(str).str.zfill(2)\n",
    "df['hour'] = pd.to_datetime(df['time'].astype(str), format='%H:%M:%S').dt.hour.astype(str).str.zfill(2)\n",
    "df['minute'] = pd.to_datetime(df['time'].astype(str), format='%H:%M:%S').dt.minute.astype(str).str.zfill(2)\n",
    "\n",
    "df = df.drop(columns=['date', 'time'])\n",
    "\n",
    "print(df.shape)\n",
    "print(df.head(10))"
   ]
  },
  {
   "cell_type": "code",
   "execution_count": null,
   "metadata": {
    "id": "zA85IRcEkYWP"
   },
   "outputs": [],
   "source": []
  }
 ],
 "metadata": {
  "colab": {
   "authorship_tag": "ABX9TyMuhb9vE5lJ531ZbBoSMsyW",
   "provenance": []
  },
  "kernelspec": {
   "display_name": "chat-analyzer",
   "language": "python",
   "name": "python3"
  },
  "language_info": {
   "codemirror_mode": {
    "name": "ipython",
    "version": 3
   },
   "file_extension": ".py",
   "mimetype": "text/x-python",
   "name": "python",
   "nbconvert_exporter": "python",
   "pygments_lexer": "ipython3",
   "version": "3.11.13"
  }
 },
 "nbformat": 4,
 "nbformat_minor": 0
}
